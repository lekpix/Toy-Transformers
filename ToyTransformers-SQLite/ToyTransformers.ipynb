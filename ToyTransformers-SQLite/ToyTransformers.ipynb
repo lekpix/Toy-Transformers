{
 "cells": [
  {
   "cell_type": "code",
   "execution_count": 2,
   "id": "590f0a4f",
   "metadata": {},
   "outputs": [],
   "source": [
    "import pandas as pd\n",
    "# from  postgres_pwd import pwd"
   ]
  },
  {
   "cell_type": "code",
   "execution_count": 3,
   "id": "f273ae59",
   "metadata": {},
   "outputs": [],
   "source": [
    "Toy_df=pd.read_csv(\"ToyTransformers.csv\",index_col=\"id\")\n"
   ]
  },
  {
   "cell_type": "code",
   "execution_count": 4,
   "id": "6fa3bfe5",
   "metadata": {},
   "outputs": [
    {
     "data": {
      "text/html": [
       "<div>\n",
       "<style scoped>\n",
       "    .dataframe tbody tr th:only-of-type {\n",
       "        vertical-align: middle;\n",
       "    }\n",
       "\n",
       "    .dataframe tbody tr th {\n",
       "        vertical-align: top;\n",
       "    }\n",
       "\n",
       "    .dataframe thead th {\n",
       "        text-align: right;\n",
       "    }\n",
       "</style>\n",
       "<table border=\"1\" class=\"dataframe\">\n",
       "  <thead>\n",
       "    <tr style=\"text-align: right;\">\n",
       "      <th></th>\n",
       "      <th>suppliername</th>\n",
       "      <th>toyname</th>\n",
       "      <th>price</th>\n",
       "      <th>unit</th>\n",
       "      <th>productlocation</th>\n",
       "    </tr>\n",
       "    <tr>\n",
       "      <th>id</th>\n",
       "      <th></th>\n",
       "      <th></th>\n",
       "      <th></th>\n",
       "      <th></th>\n",
       "      <th></th>\n",
       "    </tr>\n",
       "  </thead>\n",
       "  <tbody>\n",
       "    <tr>\n",
       "      <th>1</th>\n",
       "      <td>Niket</td>\n",
       "      <td>optimusprime</td>\n",
       "      <td>$20.00</td>\n",
       "      <td>5</td>\n",
       "      <td>RG001</td>\n",
       "    </tr>\n",
       "    <tr>\n",
       "      <th>2</th>\n",
       "      <td>Nived</td>\n",
       "      <td>Bumblebee</td>\n",
       "      <td>$15.00</td>\n",
       "      <td>2</td>\n",
       "      <td>LG005</td>\n",
       "    </tr>\n",
       "    <tr>\n",
       "      <th>3</th>\n",
       "      <td>Udith</td>\n",
       "      <td>optimusprime</td>\n",
       "      <td>$30.00</td>\n",
       "      <td>3</td>\n",
       "      <td>LA007</td>\n",
       "    </tr>\n",
       "  </tbody>\n",
       "</table>\n",
       "</div>"
      ],
      "text/plain": [
       "   suppliername       toyname   price  unit productlocation\n",
       "id                                                         \n",
       "1         Niket  optimusprime  $20.00     5           RG001\n",
       "2         Nived     Bumblebee  $15.00     2           LG005\n",
       "3        Udith   optimusprime  $30.00     3           LA007"
      ]
     },
     "execution_count": 4,
     "metadata": {},
     "output_type": "execute_result"
    }
   ],
   "source": [
    "Toy_df.head()"
   ]
  },
  {
   "cell_type": "code",
   "execution_count": null,
   "id": "902556fd",
   "metadata": {},
   "outputs": [],
   "source": [
    "# Toy_df=Toy_df.rename(columns={'Name':'name','ToyName':'toyname'})\n",
    "# Toy_df.set_index('id',inplace=True)"
   ]
  },
  {
   "cell_type": "markdown",
   "id": "bb695401",
   "metadata": {},
   "source": [
    "Postgres Database connection"
   ]
  },
  {
   "cell_type": "code",
   "execution_count": null,
   "id": "2f307b87",
   "metadata": {},
   "outputs": [],
   "source": [
    "# connstr=f\"postgres:{pwd}@localhost:5432/ToyTransformer_DB\"\n",
    "# engine=create_engine(f'postgresql://{connstr}')\n",
    "\n",
    "# engine.table_names()\n",
    "\n",
    "# # Toy_df.to_sql(name='toy_tb',con=engine,if_exists='append',index=True)\n",
    "# # #CT_census.to_sql(name='ct_census',con=engine,if_exists='replace',index=True)\n",
    "\n",
    "\n",
    "# from sqlalchemy.orm import Session\n",
    "# from sqlalchemy.ext.automap import automap_base\n",
    "\n",
    "# engine\n",
    "\n",
    "# base=automap_base()\n",
    "\n",
    "# base.prepare(engine, reflect=True)\n",
    "\n",
    "# base.classes.keys()\n",
    "\n",
    "# Toy=base.classes.toy_tb\n",
    "\n",
    "# session=Session(engine)\n",
    "\n",
    "# data = engine.execute(\"SELECT * FROM toy_tb\")\n",
    "# for record in data:\n",
    "#     print(record)\n",
    "\n",
    "# base.metadata.create_all(engine)\n",
    "\n",
    "# inspector=inspect(engine)\n",
    "# inspector.get_table_names()\n",
    "\n",
    "\n",
    "# Col=inspector.get_columns('toy_tb')\n",
    "# for c in Col:\n",
    "#     print(c['name'],c['type'])\n",
    "\n",
    "# session.query(Toy.id,Toy.name,Toy.toyname).all()\n",
    "\n",
    "# cat = Toy(name=\"Nik\", toyname=\"Jazz\")\n",
    "\n",
    "# session.add(cat)\n",
    "# session.flush()\n",
    "# session.commit()\n",
    "\n",
    "# # session.rollback()\n",
    "# # session.refresh(cat)\n",
    "\n",
    "# session.close()"
   ]
  },
  {
   "cell_type": "markdown",
   "id": "5c4d42fd",
   "metadata": {},
   "source": [
    "# SQLite Database connection"
   ]
  },
  {
   "cell_type": "code",
   "execution_count": 5,
   "id": "73dd9626",
   "metadata": {},
   "outputs": [],
   "source": [
    "from sqlalchemy import create_engine,inspect,Column,Integer,String,Float\n",
    "from sqlalchemy.ext.declarative import declarative_base\n",
    "Base=declarative_base()"
   ]
  },
  {
   "cell_type": "code",
   "execution_count": 6,
   "id": "c60b65f3",
   "metadata": {},
   "outputs": [],
   "source": [
    "class ToyInventory(Base):\n",
    "    __tablename__='toyinventory'\n",
    "    id=Column(Integer,primary_key=True)\n",
    "    suppliername=Column(String)\n",
    "    toyname=Column(String)\n",
    "    price=Column(Float)\n",
    "    unit=Column(Integer)\n",
    "    productlocation=Column(String)\n",
    "        "
   ]
  },
  {
   "cell_type": "code",
   "execution_count": 7,
   "id": "a8d95ace",
   "metadata": {},
   "outputs": [],
   "source": [
    "engine=create_engine(\"sqlite:///toyinventory.db\",echo=False)\n",
    "conn=engine.connect()\n",
    "Base.metadata.create_all(engine)"
   ]
  },
  {
   "cell_type": "code",
   "execution_count": 8,
   "id": "92f4081b",
   "metadata": {},
   "outputs": [],
   "source": [
    "Toy_df.to_sql('toyinventory',con=engine,if_exists=\"append\",index=False)"
   ]
  },
  {
   "cell_type": "code",
   "execution_count": 9,
   "id": "c450ab90",
   "metadata": {},
   "outputs": [],
   "source": [
    "from sqlalchemy.ext.automap import automap_base\n",
    "base=automap_base()\n",
    "base.prepare(engine,reflect=True)"
   ]
  },
  {
   "cell_type": "code",
   "execution_count": 10,
   "id": "bed2c483",
   "metadata": {},
   "outputs": [],
   "source": [
    "Toy=base.classes.toyinventory"
   ]
  },
  {
   "cell_type": "code",
   "execution_count": 11,
   "id": "760bdd7c",
   "metadata": {},
   "outputs": [
    {
     "data": {
      "text/plain": [
       "['toyinventory']"
      ]
     },
     "execution_count": 11,
     "metadata": {},
     "output_type": "execute_result"
    }
   ],
   "source": [
    "base.classes.keys()"
   ]
  },
  {
   "cell_type": "code",
   "execution_count": 12,
   "id": "8b9d65ee",
   "metadata": {},
   "outputs": [],
   "source": [
    "inspector=inspect(engine)"
   ]
  },
  {
   "cell_type": "code",
   "execution_count": 13,
   "id": "b873d4b4",
   "metadata": {},
   "outputs": [
    {
     "name": "stdout",
     "output_type": "stream",
     "text": [
      "id INTEGER\n",
      "suppliername VARCHAR\n",
      "toyname VARCHAR\n",
      "price FLOAT\n",
      "unit INTEGER\n",
      "productlocation VARCHAR\n"
     ]
    }
   ],
   "source": [
    "col=inspector.get_columns('toyinventory')\n",
    "for c in col:\n",
    "    print(c[\"name\"],c['type'])"
   ]
  },
  {
   "cell_type": "code",
   "execution_count": 14,
   "id": "2e6a081a",
   "metadata": {},
   "outputs": [],
   "source": [
    "from sqlalchemy.orm import Session\n",
    "session=Session(bind=engine)"
   ]
  },
  {
   "cell_type": "code",
   "execution_count": 17,
   "id": "61ddfc8f",
   "metadata": {},
   "outputs": [],
   "source": [
    "results=session.query(Toy).all()\n",
    "for row in results:\n",
    "    print(row.id,row.suppliername,row.toyname,row.price,row.unit,row.productlocation )"
   ]
  },
  {
   "cell_type": "code",
   "execution_count": 16,
   "id": "9b09beae",
   "metadata": {},
   "outputs": [
    {
     "data": {
      "text/plain": [
       "11"
      ]
     },
     "execution_count": 16,
     "metadata": {},
     "output_type": "execute_result"
    }
   ],
   "source": [
    "# Delete all records\n",
    "session.query(Toy).delete()"
   ]
  },
  {
   "cell_type": "code",
   "execution_count": 22,
   "id": "c04c8731",
   "metadata": {},
   "outputs": [],
   "source": [
    "NewItem=Toy(suppliername=\"Jasper\",toyname=\"Hotrod\")\n",
    "# ,price=10.00,unit=8,productlocation=\"BR001\")"
   ]
  },
  {
   "cell_type": "code",
   "execution_count": 23,
   "id": "12d0dc64",
   "metadata": {},
   "outputs": [],
   "source": [
    "session.add(NewItem)"
   ]
  },
  {
   "cell_type": "code",
   "execution_count": null,
   "id": "fcaae3fd",
   "metadata": {},
   "outputs": [],
   "source": [
    "# session.rollback()"
   ]
  },
  {
   "cell_type": "code",
   "execution_count": 17,
   "id": "1a6e9adb",
   "metadata": {},
   "outputs": [
    {
     "name": "stdout",
     "output_type": "stream",
     "text": [
      "1 Niket optimusprime $20.00 5 RG001\n",
      "2 Nived Bumblebee $15.00 2 LG005\n",
      "3 Udith  optimusprime $30.00 3 LA007\n",
      "4 Jasper Hotrod 10.0 8 BR001\n",
      "5 Niket optimusprime $20.00 5 RG001\n",
      "6 Nived Bumblebee $15.00 2 LG005\n",
      "7 Udith  optimusprime $30.00 3 LA007\n",
      "8 Jasper Hotrod 10.0 8 BR001\n"
     ]
    }
   ],
   "source": [
    "results=session.query(Toy).all()\n",
    "for row in results:\n",
    "    print(row.id,row.suppliername,row.toyname,row.price,row.unit,row.productlocation )"
   ]
  },
  {
   "cell_type": "code",
   "execution_count": null,
   "id": "62ffd8d4",
   "metadata": {},
   "outputs": [],
   "source": [
    "# Toy=base.classes.toyinventory"
   ]
  },
  {
   "cell_type": "code",
   "execution_count": 24,
   "id": "1dd35dd3",
   "metadata": {},
   "outputs": [
    {
     "data": {
      "text/plain": [
       "[('Jasper', 'Hotrod', None, None, None)]"
      ]
     },
     "execution_count": 24,
     "metadata": {},
     "output_type": "execute_result"
    }
   ],
   "source": [
    "session.query(Toy.suppliername,Toy.toyname,Toy.price,Toy.unit,Toy.productlocation).all()"
   ]
  },
  {
   "cell_type": "code",
   "execution_count": 25,
   "id": "be62a039",
   "metadata": {},
   "outputs": [],
   "source": [
    "session.commit()"
   ]
  },
  {
   "cell_type": "code",
   "execution_count": 26,
   "id": "218f2f75",
   "metadata": {},
   "outputs": [],
   "source": [
    "session.close()"
   ]
  }
 ],
 "metadata": {
  "kernelspec": {
   "display_name": "Python 3",
   "language": "python",
   "name": "python3"
  },
  "language_info": {
   "codemirror_mode": {
    "name": "ipython",
    "version": 3
   },
   "file_extension": ".py",
   "mimetype": "text/x-python",
   "name": "python",
   "nbconvert_exporter": "python",
   "pygments_lexer": "ipython3",
   "version": "3.8.8"
  }
 },
 "nbformat": 4,
 "nbformat_minor": 5
}
